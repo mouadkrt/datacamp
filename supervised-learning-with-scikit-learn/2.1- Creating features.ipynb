{
 "cells": [
  {
   "cell_type": "code",
   "execution_count": 1,
   "id": "162459fe",
   "metadata": {},
   "outputs": [
    {
     "name": "stdout",
     "output_type": "stream",
     "text": [
      "(4546, 1) (4546,)\n"
     ]
    }
   ],
   "source": [
    "import numpy as np\n",
    "import pandas as pd\n",
    "\n",
    "sales_df = pd.read_csv('..\\\\datasets\\\\advertising_and_sales_clean.csv', delimiter=',')\n",
    "\n",
    "# Create X from the radio column's values\n",
    "X = sales_df['radio'].values\n",
    "\n",
    "# Create y from the sales column's values\n",
    "y = sales_df['sales'].values\n",
    "\n",
    "# Reshape X\n",
    "X = X.reshape(-1,1)\n",
    "\n",
    "# Check the shape of the features and targets\n",
    "print(X.shape, y.shape)"
   ]
  },
  {
   "cell_type": "code",
   "execution_count": null,
   "id": "58c439a6",
   "metadata": {},
   "outputs": [],
   "source": []
  }
 ],
 "metadata": {
  "kernelspec": {
   "display_name": "Python 3 (ipykernel)",
   "language": "python",
   "name": "python3"
  },
  "language_info": {
   "codemirror_mode": {
    "name": "ipython",
    "version": 3
   },
   "file_extension": ".py",
   "mimetype": "text/x-python",
   "name": "python",
   "nbconvert_exporter": "python",
   "pygments_lexer": "ipython3",
   "version": "3.11.5"
  }
 },
 "nbformat": 4,
 "nbformat_minor": 5
}
